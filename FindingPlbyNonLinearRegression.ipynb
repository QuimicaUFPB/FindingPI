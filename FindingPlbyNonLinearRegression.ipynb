{
 "cells": [
  {
   "cell_type": "markdown",
   "metadata": {},
   "source": [
    "# Encontrando o valor de $\\pi$ usando regressão não linear\n",
    "\n",
    "## 1. Introdução\n",
    "Neste notebook vamos explicar como conseguir obter um valor experimental de PI em base a medidas de superfie e circunferencia usando varios objetos cilíndricos diferentes.\n",
    "\n",
    "## 2. Metodologia\n",
    "<!---\n",
    "Expliquem por cima qual foi a metodologia e coloquem em Latex as equações que foram usadas\n",
    "Para inserter uma equação em Latex usem comandos tipo isso aqui:\n",
    "\n",
    "$$\\mathbb{N}$$\n",
    "\n",
    "$$\\frac{1}{2}$$\n",
    "\n",
    "Procurem mais info na internet sobre isso.\n",
    "--->\n",
    "\n",
    "\n",
    "## 3. Resultados\n",
    "### 3.1 Dados experimentais\n",
    "<!---\n",
    "Mostrem os dados em formato de tabela\n",
    "--->\n",
    "\n",
    "### 3.2 Preparação dos dados\n",
    "<!---\n",
    "Montem uma nova tabela com S e c² explicando o por quê disso.\n",
    "--->\n",
    "\n",
    "### 3.3 Regressão não linear\n",
    "![Gráfico de dispersão](Graficos/regressao_nao_linear_01.png) \n",
    "![Gráfico de dispersão](Graficos/regressao_nao_linear_02.png) \n",
    <center> <img src="Graficos/regressao_nao_linear_02.png" alt="jpg_python" width="100" height=""> </center>,
    "<!---\n",
    "Peguem o gráfico que o Jo fez sobre a regressão linear e expliquem.\n",
    "--->\n",
    "\n",
    "### 3.4 Parámetros da regressão linear\n",
    "<!---\n",
    "Falem dos valores (valores e erros) obtidos pela regressão linear\n",
    "--->\n",
    "\n",
    "### 3.5 Valor experimental de PI\n",
    "<!---\n",
    "Expoham o resultado de PI e seu erro. Também seu erro relativo\n",
    "--->\n",
    "\n",
    "## 4. Conclusão\n",
    "<!---\n",
    "Resumo rápido\n",
    "--->"
   ]
  },
  {
   "cell_type": "markdown",
   "metadata": {},
   "source": []
  }
 ],
 "metadata": {
  "language_info": {
   "name": "python"
  }
 },
 "nbformat": 4,
 "nbformat_minor": 2
}

