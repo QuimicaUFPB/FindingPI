{
 "cells": [
  {
   "cell_type": "markdown",
   "metadata": {},
   "source": [
    "# Encontrando o valor de $\\pi$ usando regressão linear\n",
    "\n",
    "## 1. Introdução\n",
    "Neste notebook vamos explicar como conseguir obter um valor experimental de PI em base a medidas de superfie e circunferencia usando varios objetos cilíndricos diferentes."
   ]
  },
  {
   "cell_type": "markdown",
   "metadata": {},
   "source": [
    "## 2. Metodologia\n",
    "<!---\n",
    "Expliquem por cima qual foi a metodologia\n",
    "--->"
   ]
  },
  {
   "cell_type": "markdown",
   "metadata": {},
   "source": [
    "\n",
    "## 3. Resultados\n"
   ]
  },
  {
   "cell_type": "markdown",
   "metadata": {},
   "source": [
    "### 3.1 Dados experimentais\n",
    "<!---\n",Tabela 3. Somatório e média das medidas, c², c² . s, c⁴, S² e  S 
Unidade de medida : cm
  Objeto | c² (cm²) |S² (cm⁴)| c² . s (cm⁴) | c⁴ (cm⁴) | S² (cm⁴)|
|--------|-----------|-----------|-----------|-----------|---------------|
| Objeto 1 | 3.6 | 1.225 | 129.6 | 1.225 | 12.6 |
| Objeto 2 | 19.6 | 26.406 | 3841.6 | 26.406 | 318.5 |
| Objeto 3 | 29.584 | 52.9 | 8752.1 | 52.9 | 68043.2 |
| Objeto 4 | 45.369 | 140.6 | 20583.4 | 140.6 | 170133.8 |
| Objeto 5 | 82.369 | 419.2 | 67846.5 | 419.2 | 533339.3 |
| Objeto 6 | 6.25 | 25 | 3906.25 | 25 | 312.5 |
| Objeto 7 | 90.25 | 431517.61 | 814506.25 | 431517.61 | 59522.98 |
| Objeto 8 | 153.76 | 1241887.36 | 2364213.76 | 1241887.36 | 171283.28 |
| Objeto 9 | 449.44 | 104006.25 | 20199631.36 | 104006.25 | 1449444 |
| Objeto 10 | 812.25 | 38985038.44 | 659750062.5 | 38985038.44 | 507152655 |
| Objeto 11 | 1030.41 | 581406.25 | 106174476.81 | 581406.25 | 785680 |
| **Soma:** | 272288.2 |  5324988256|  19563289388 |4134452124 | 105551
| **Média:** | 247.5347 | 68043.2 |67846.5  | 3758592.84   | 959.5545|
    "Mostrem os dados em formato de tabela\n",
    "--->"
   ]
  },
  {
   "cell_type": "markdown",
   "metadata": {},
   "source": [
    "### 3.2 Preparação dos dados\n",
    "<!---\n",
    "Montem uma nova tabela com S e c² explicando o por quê disso.\n",
    "--->"
   ]
  },
  {
   "cell_type": "markdown",
   "metadata": {},
   "source": [
    "\n",
    "### 3.3 Regressão linear\n",
    "<!---\n",
    "Peguem o gráfico que o Jo fez sobre a regressão linear e expliquem.\n",
    "--->"
   ]
  },
  {
   "cell_type": "markdown",
   "metadata": {},
   "source": [
    "\n",
    "### 3.4 Parámetros da regressão linear\n",
    "<!---\n",
    "Falem dos valores (valores e erros) obtidos pela regressão linear\n",
    "--->"
   ]
  },
  {
   "cell_type": "markdown",
   "metadata": {},
   "source": [
    "\n",
    "### 3.5 Valor experimental de PI\n",
    "<!---\n",
    "Expoham o resultado de PI e seu erro. Também seu erro relativo\n",
    "--->"
   ]
  },
  {
   "cell_type": "markdown",
   "metadata": {},
   "source": [
    "\n",
    "## 4. Conclusão\n",
    "<!---\n",
    "Resumo rápido\n",
    "--->"
   ]
  }
 ],
 "metadata": {
  "language_info": {
   "name": "python"
  }
 },
 "nbformat": 4,
 "nbformat_minor": 2
}
