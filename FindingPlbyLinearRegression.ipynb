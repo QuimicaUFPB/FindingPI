# 1. Introdução
Neste notebook vamos explicar como conseguir obter um valor experimental de PI em base a medidas de superfie e circunferencia usando varios objetos cilíndricos diferentes.

# 2. Metodologia
<!---
Expliquem por cima qual foi a metodologia e coloquem em Latex as equações que foram usadas
--->

#3. Resultados
## 3.1 Dados experimentais
<!---
Mostrem os dados em formato de tabela
--->

## 3.2 Preparação dos dados
<!---
Montem uma nova tabela com S e c² explicando o por quê disso.
--->

## 3.3 Regressão linear
<!---
Peguem o gráfico que o Jo fez sobre a regressão linear e expliquem.
--->

## 3.4 Parámetros da regressão linear
<!---
Falem dos valores (valores e erros) obtidos pela regressão linear
--->

## 3.5 Valor experimental de PI
<!---
Expoham o resultado de PI e seu erro. Também seu erro relativo
--->

#4. Conclusão
<!---
Resumo rápido
--->

