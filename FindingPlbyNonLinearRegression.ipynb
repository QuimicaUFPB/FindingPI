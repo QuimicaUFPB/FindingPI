{
 "cells": [
  {
   "cell_type": "markdown",
   "metadata": {},
   "source": [
    "# Encontrando o valor de $\\pi$ usando regressão não linear\n",
    "\n",
    "## 1. Introdução\n",
    "Neste notebook vamos explicar como conseguir obter um valor experimental de PI em base a medidas de superfie e circunferencia usando varios objetos cilíndricos diferentes."
   ]
  },
  {
   "cell_type": "markdown",
   "metadata": {},
   "source": [
    "## 2. Metodologia\n",
    "<!---\n",
    "Expliquem por cima qual foi a metodologia e coloquem em Latex as equações que foram usadas\n",
    "Para inserter uma equação em Latex usem comandos tipo isso aqui:\n",
    "\n",
    "$$\\mathbb{N}$$\n",
    "\n",
    "$$\\frac{1}{2}$$\n",
    "\n",
    "Procurem mais info na internet sobre isso.\n",
    "--->"
   ]
  },
  {
   "cell_type": "markdown",
   "metadata": {},
   "source": [
    "## 3. Resultados"
   ]
  },
  {
   "cell_type": "markdown",
   "metadata": {},
   "source": [
    "### 3.1 Dados experimentais\n",
    "<!---\n",
    "Mostrem os dados em formato de tabela\n",
    "--->"
   ]
  },
  {
   "cell_type": "markdown",
   "metadata": {},
   "source": [
    "### 3.2 Preparação dos dados\n",
    "<!---\n",
    "Montem uma nova tabela com S e c² explicando o por quê disso.\n",
    "--->"
   ]
  },
  {
   "cell_type": "markdown",
   "metadata": {},
   "source": [
    "### 3.3 Regressão não linear \n",
    "<!---\n",
    "Peguem o gráfico que o Jo fez sobre a regressão linear e expliquem.\n",
    "--->"
   ]
  },
  {
   "cell_type": "markdown",
   "metadata": {},
   "source": [
    "### 3.4 Parámetros da regressão linear\n",
    "<!---\n",
    "Falem dos valores (valores e erros) obtidos pela regressão linear\n",
    "--->"
   ]
  },
  {
   "cell_type": "markdown",
   "metadata": {},
   "source": [
    "A obtenção dos parâmetros foi organizada em cinco passos tendo início com a importação do pacote numpy, classe LinearRegression e o polynomialFeatures, que tem a funcionalidades necessárias para executar a regressão polinomial."
   ]
  },
  {
   "cell_type": "code",
   "execution_count": 9,
   "metadata": {},
   "outputs": [],
   "source": [
    "import numpy as np\n",
    "from sklearn.linear_model import LinearRegression\n",
    "from sklearn.preprocessing import PolynomialFeatures"
   ]
  },
  {
   "cell_type": "markdown",
   "metadata": {},
   "source": [
    "A segunda etapa é a definição dos dados no qual vão ser trabalhados. As entradas (variável independente, x) e as saídas (variável dependente, y) devem ser matrizes ou objetos semelhantes. Os dados utilizados são a circunferência armazenado em x e a superfície armazenados em y."
   ]
  },
  {
   "cell_type": "code",
   "execution_count": 3,
   "metadata": {},
   "outputs": [],
   "source": [
    "x = np.array([0, 60, 140, 172, 213, 287, 25, 95, 124, 212, 285, 321]).reshape((-1, 1))\n",
    "y = np.array([0, 350, 1625, 2300, 3750, 6475, 50.0, 656.9, 1114.4, 3225.0, 6243.8, 7625.0])"
   ]
  },
  {
   "cell_type": "markdown",
   "metadata": {},
   "source": [
    "Etapa três, transformação dos dados de entrada. Os dados da matriz x são convertidos de x para $x^{2}$, essa conversão é feita com o PolynomialFeatures() e .fit_transform()."
   ]
  },
  {
   "cell_type": "code",
   "execution_count": 4,
   "metadata": {},
   "outputs": [],
   "source": [
    "x_ = PolynomialFeatures(degree=2, include_bias=False).fit_transform(x)"
   ]
  },
  {
   "cell_type": "markdown",
   "metadata": {},
   "source": [
    "Quatro passo seguimos para a criação do modelo de regressão linear e ajustá-lo usando os dados existentes. Utilizando o LenearRegression() na criação do modelo de regressão. O ajuste do modelo se dar ao utiliza .fit() onde calcula os valores ideais dos pesos $b_{0}$ e $b_{1}$, usando o parámetro convertido anteriormente e a saída existentes, x_ e y, como argumentos."
   ]
  },
  {
   "cell_type": "code",
   "execution_count": 5,
   "metadata": {},
   "outputs": [],
   "source": [
    "model = LinearRegression().fit(x_, y)"
   ]
  },
  {
   "cell_type": "markdown",
   "metadata": {},
   "source": [
    "O próximo passo, é a obtenção dos resultados. Utilizados os comandos .score(), .intercept_ e .coef_ no parâmetro model, obtendo o coeficiente de determinação, $R^{2}$, o intercepto, $b_{0}$, e coeficiente angular, $b_{1}$ e $b_{2}$."
   ]
  },
  {
   "cell_type": "code",
   "execution_count": 8,
   "metadata": {},
   "outputs": [
    {
     "name": "stdout",
     "output_type": "stream",
     "text": [
      "Coeficiente de determinação: 0.9971610212819944\n",
      "Intercepto: -27.34376017096065\n",
      "Coeficiente angular: [1.14475586 0.07252142]\n"
     ]
    }
   ],
   "source": [
    "r_sq = model.score(x_, y)\n",
    "print(f\"Coeficiente de determinação: {r_sq}\")\n",
    "print(f\"Intercepto: {model.intercept_}\")\n",
    "print(f\"Coeficiente angular: {model.coef_}\")"
   ]
  },
  {
   "cell_type": "markdown",
   "metadata": {},
   "source": [
    "### 3.5 Valor experimental de PI\n",
    "<!---\n",
    "Expoham o resultado de PI e seu erro. Também seu erro relativo\n",
    "--->"
   ]
  },
  {
   "cell_type": "markdown",
   "metadata": {},
   "source": [
    "## 4. Conclusão\n",
    "<!---\n",
    "Resumo rápido\n",
    "--->"
   ]
  }
 ],
 "metadata": {
  "kernelspec": {
   "display_name": "Python 3",
   "language": "python",
   "name": "python3"
  },
  "language_info": {
   "codemirror_mode": {
    "name": "ipython",
    "version": 3
   },
   "file_extension": ".py",
   "mimetype": "text/x-python",
   "name": "python",
   "nbconvert_exporter": "python",
   "pygments_lexer": "ipython3",
   "version": "3.12.0"
  }
 },
 "nbformat": 4,
 "nbformat_minor": 2
}
