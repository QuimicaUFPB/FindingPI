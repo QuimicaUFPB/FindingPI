{
 "cells": [
  {
   "cell_type": "markdown",
   "metadata": {},
   "source": [
    "# Encontrando o valor de $\\pi$ usando regressão linear\n",
    "\n",
    "## 1. Introdução\n",
    "Neste notebook vamos explicar como conseguir obter um valor experimental de PI em base a medidas de superfie e circunferencia usando varios objetos cilíndricos diferentes."
   ]
  },
  {
   "cell_type": "markdown",
   "metadata": {},
   "source": [
    "## 2. Metodologia\n",
    "<!---\n",
    "Expliquem por cima qual foi a metodologia\n",
    "--->"
   ]
  },
  {
   "cell_type": "markdown",
   "metadata": {},
   "source": [
    "\n",
    "## 3. Resultados\n"
   ]
  },
  {
   "cell_type": "markdown",
   "metadata": {},
   "source": [
    "### 3.1 Dados experimentais\n",
    "<!---\n",
    "Mostrem os dados em formato de tabela\n",
    "--->"
   ]
  },
  {
   "cell_type": "markdown",
   "metadata": {},
   "source": [
    "\n",
    "\n",
    "Tabela 1 : Valores das medidas diretas (C, S) e indiretas e seus respectivos erros\n",
    "\n",
    "| Medidas   |   𝑪 ± ∆𝑪 (mm) |  𝑺 ± ∆S (mm²) |\n",
    "|:----------|-------------------:|-------------------:|\n",
    "| objeto 1  |                 60±1 |            350 ±6|\n",
    "| objeto 2  |                140± 1|         1625  ± 6|\n",
    "| objeto 3  |                172 ±1|          2300  ±6|\n",
    "| objeto 4  |                213 ±1|         3750 ±  6|\n",
    "| objeto 5  |                287± 1|         6475 ±  6|\n",
    "| objeto 6  |                 25 ±1|           50 ± 6 |\n",
    "| objeto 7  |                 95± 1|          656.9 ±6|\n",
    "| objeto 8  |                124 ±1|         1114.4± 6|\n",
    "| objeto 9  |                212± 1|         3225  ± 6|\n",
    "| objeto 10 |                285 ±1|         6243.8 ±6|\n",
    "| objeto 11 |                321± 1|         7625 ±  6|\n"
   ]
  },
  {
   "cell_type": "markdown",
   "metadata": {},
   "source": [
    "Tabela 2 : Valores das medidas diretas (C², S) e indiretas e seus respectivos erros\n",
    "\n",
    "| Medidas   |   𝑪² ± ∆𝑪² (mm²)  |   𝑺 ± ∆𝑺 (mm²)|\n",
    "|:----------|----------------------:|-------------------:|\n",
    "| objeto 1  |         3.600 ±1,2|         350   ±6|\n",
    "| objeto 2  |        19.600± 2,8|       1.625   ±6|\n",
    "| objeto 3  |        29.584±3,4 |       2.300   ±6|\n",
    "| objeto 4  |        45.369 ±4,3|       3.750   ±6|\n",
    "| objeto 5  |        82.369 ±5,7|       6.475   ±6|\n",
    "| objeto 6  |           625 ±0,7|          50   ±6|\n",
    "| objeto 7  |         9.025 ±1,7|         6.569 ±6|\n",
    "| objeto 8  |        15.375 ±2,3|        11.144 ±6|\n",
    "| objeto 9  |        44.944 ±4,2|       3.225   ±6|\n",
    "| objeto 10 |        81.225 ±5,5|        62.438 ±6|\n",
    "| objeto 11 |       103.041 ±6,2|       7.625   ±6|"
   ]
  },
  {
   "cell_type": "markdown",
   "metadata": {},
   "source": [
    "Tabela 3: Somatório e média das medidas, C² S² ,C² . S,C⁴,S²  \n",
    "\n",
    "|  Medidas| c² (cm²) |S² (cm⁴)     | c⁴ (cm⁴)     | S² (cm²)    |c² . s (cm⁴)|\n",
    "|:--------|----------:|-------------:|--------------:|-------------:|------------:|\n",
    "| Objeto 1 | 0.036    | 0.001225    | 1.296        | 35          |  0.126     |\n",
    "| Objeto 2 | 0.196    | 0.026406    | 38.416       | 0.1625      |  3.185     |\n",
    "| Objeto 3 | 0.29584  | 0.0529      | 87.521       | 0.23        |  680.432   |\n",
    "| Objeto 4 | 0.45369  | 0.1406      | 2058.34      | 0.375       |  17013.38  |\n",
    "| Objeto 5 | 0.82369  | 0.4192      | 6784.65      | 0.6475      |  53333.93  |\n",
    "| Objeto 6 | 0.00625  | 0.025       | 39.0625      | 5           |  3.125     |\n",
    "| Objeto 7 | 0.9025   | 431.51761   | 81450.625    | 0.6569      |  59522.98  |\n",
    "| Objeto 8 | 1.5376   | 1241.88736  | 236421.376   | 1.1144      |  171283.28 |\n",
    "| Objeto 9 | 4.4944   | 10400.625   | 20199631.36  | 0.3225      |  1449444   |\n",
    "| Objeto 10 | 8.1225  | 3898503.844 | 65975006.25  | 6.2438      |  507152655 |\n",
    "| Objeto 11 | 10.3041 | 581406.25   | 106174476.81 | 0.7625      |  7856800   |\n",
    "| Soma: | 2722.882    | 53249882.56 | 195632893.88 | 10555.1     |  1055.51   |\n",
    "| Média: | 2.475347   | 680.432     | 6784.65 |375 | 9.595545    | 6804320    |"
   ]
  },
  {
   "cell_type": "markdown",
   "metadata": {},
   "source": [
    "### 3.2 Preparação dos dados\n",
    "<!---\n",
    "Montem uma nova tabela com S e c² explicando o por quê disso.\n",
    "--->"
   ]
  },
  {
   "cell_type": "markdown",
   "metadata": {},
   "source": [
    "\n",
    "### 3.3 Regressão linear\n",
    "<!---\n",
    "Peguem o gráfico que o Jo fez sobre a regressão linear e expliquem.\n",
    "--->"
   ]
  },
  {
   "cell_type": "markdown",
   "metadata": {},
   "source": [
    "\n",
    "### 3.4 Parámetros da regressão linear\n",
    "<!---\n",
    "Falem dos valores (valores e erros) obtidos pela regressão linear\n",
    "--->"
   ]
  },
  {
   "cell_type": "markdown",
   "metadata": {},
   "source": [
    "\n",
    "### 3.5 Valor experimental de PI\n",
    "<!---\n",
    "Expoham o resultado de PI e seu erro. Também seu erro relativo\n",
    "--->"
   ]
  },
  {
   "cell_type": "markdown",
   "metadata": {},
   "source": [
    "\n",
    "## 4. Conclusão\n",
    "<!---\n",
    "Resumo rápido\n",
    "--->"
   ]
  }
 ],
 "metadata": {
  "language_info": {
   "name": "python"
  }
 },
 "nbformat": 4,
 "nbformat_minor": 2
}
