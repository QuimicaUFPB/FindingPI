{
 "cells": [
  {
   "cell_type": "markdown",
   "metadata": {},
   "source": [
    "# Encontrando o valor de $\\pi$ usando regressão linear\n",
    "\n",
    "## 1. Introdução\n",
    "Neste notebook vamos explicar como conseguir obter um valor experimental de PI em base a medidas de superfie e circunferencia usando varios objetos cilíndricos diferentes."
   ]
  },
  {
   "cell_type": "markdown",
   "metadata": {},
   "source": [
    "## 2. Metodologia\n",
    "<!---\n",
    "Expliquem por cima qual foi a metodologia\n",
    "--->"
   ]
  },
  {
   "cell_type": "markdown",
   "metadata": {},
   "source": [
    "\n",
    "## 3. Resultados\n"
   ]
  },
  {
   "cell_type": "markdown",
   "metadata": {},
   "source": [
  " ### 3.1 Dados experimentais\n",
"Tabela 1 : Valores das medidas diretas (C, S) e indiretas e seus respectivos erros\n",

| Medidas   |   𝑪 ± ∆𝑪 (mm) |  𝑺 ± ∆S (mm²) |
|:----------|-------------------:|-------------------:|
| objeto 1  |                 60±1 |            350 ±6|
| objeto 2  |                140± 1|         1625  ± 6|
| objeto 3  |                172 ±1|          2300  ±6|
| objeto 4  |                213 ±1|         3750 ±  6|
| objeto 5  |                287± 1|         6475 ±  6|
| objeto 6  |                 25 ±1|           50 ± 6 |
| objeto 7  |                 95± 1|          656.9 ±6|
| objeto 8  |                124 ±1|         1114.4± 6|
| objeto 9  |                212± 1|         3225  ± 6|
| objeto 10 |                285 ±1|         6243.8 ±6|
| objeto 11 |                321± 1|         7625 ±  6|

]
  },
  {
   "cell_type": "markdown",
   "metadata": {},
   "source": [
    "### 3.2 Preparação dos dados\n",
    "<!---\n",
    "Montem uma nova tabela com S e c² explicando o por quê disso.\n",
    "--->"
   ]
  },
  {
   "cell_type": "markdown",
   "metadata": {},
   "source": [
    "\n",
    "### 3.3 Regressão linear\n",
    "<!---\n",
    "Peguem o gráfico que o Jo fez sobre a regressão linear e expliquem.\n",
    "--->"
   ]
  },
  {
   "cell_type": "markdown",
   "metadata": {},
   "source": [
    "\n",
    "### 3.4 Parámetros da regressão linear\n",
    "<!---\n",
    "Falem dos valores (valores e erros) obtidos pela regressão linear\n",
    "--->"
   ]
  },
  {
   "cell_type": "markdown",
   "metadata": {},
   "source": [
    "\n",
    "### 3.5 Valor experimental de PI\n",
    "<!---\n",
    "Expoham o resultado de PI e seu erro. Também seu erro relativo\n",
    "--->"
   ]
  },
  {
   "cell_type": "markdown",
   "metadata": {},
   "source": [
    "\n",
    "## 4. Conclusão\n",
    "<!---\n",
    "Resumo rápido\n",
    "--->"
   ]
  }
 ],
 "metadata": {
  "language_info": {
   "name": "python"
  }
 },
 "nbformat": 4,
 "nbformat_minor": 2
}
