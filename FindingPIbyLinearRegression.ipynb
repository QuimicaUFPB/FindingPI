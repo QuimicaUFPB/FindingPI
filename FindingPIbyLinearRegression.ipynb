{
 "cells": [
  {
   "cell_type": "markdown",
   "metadata": {},
   "source": [
    "# Encontrando o valor de $\\pi$ usando regressão linear\n",
    "\n",
    "## 1. Introdução\n",
    "Neste notebook vamos explicar como conseguir obter um valor experimental de PI em base a medidas de superfie e circunferencia usando varios objetos cilíndricos diferentes."
   ]
  },
  {
   "cell_type": "markdown",
   "metadata": {},
   "source": [
    "## 2. Metodologia\n",
    "<!---\n",
    "Expliquem por cima qual foi a metodologia\n",
    "--->"
   ]
  },
  {
   "cell_type": "markdown",
   "metadata": {},
   "source": [
    "\n",
    "## 3. Resultados\n"
   ]
  },
  {
   "cell_type": "markdown",
   "metadata": {},
   "source": [
    "### 3.1 Dados experimentais\n",
    "<!---\n",
    "Mostrem os dados em formato de tabela\n",
    "--->"
   ]
  },
  {
   "cell_type": "markdown",
   "metadata": {},
   "source": [
    "### 3.2 Preparação dos dados\n",
    "<!---\n",
    "Montem uma nova tabela com S e c² explicando o por quê disso.\n",
    "--->"
   ]
  },
  {
   "cell_type": "markdown",
   "metadata": {},
   "source": [
    "\n",
    "### 3.3 Regressão linear\n",
    "<!---\n",
    "Peguem o gráfico que o Jo fez sobre a regressão linear e expliquem.\n",
    "--->"
   ]
  },
  {
   "cell_type": "markdown",
   "metadata": {},
   "source": [
    "\n",
    "### 3.4 Parámetros da regressão linear\n",
    "<!---\n",
    "Falem dos valores (valores e erros) obtidos pela regressão linear\n",
    "--->"
   ]
  },
  {
   "cell_type": "markdown",
   "metadata": {},
   "source": [
    "A obtenção dos parâmetros foi organizada em quatro passos tendo início com a importação do pacote numpy e a classe LinearRegression, que tem a funcionalidades necessárias para executar a regressão linear."
   ]
  },
  {
   "cell_type": "code",
   "execution_count": 27,
   "metadata": {},
   "outputs": [],
   "source": [
    "import numpy as np\n",
    "from sklearn.linear_model import LinearRegression"
   ]
  },
  {
   "cell_type": "markdown",
   "metadata": {},
   "source": [
    "A segunda etapa é a definição dos dados no qual vão ser trabalhados. As entradas (variável independente, x) e as saídas (variável dependente, y) devem ser matrizes ou objetos semelhantes. Os dados utilizados são a circunferência ao quadrado armazenado em x e a superfície armazenados em y."
   ]
  },
  {
   "cell_type": "code",
   "execution_count": 23,
   "metadata": {},
   "outputs": [],
   "source": [
    "x = np.array([0, 3600, 19600, 29584, 45369, 82369, 625, 9025, 15376, 44944, 81225, 103041]).reshape((-1, 1))\n",
    "y = np.array([0, 350, 1625, 2300, 3750, 6475, 50.0, 656.9, 1114.4, 3225.0, 6243.8, 7625.0])"
   ]
  },
  {
   "cell_type": "markdown",
   "metadata": {},
   "source": [
    "Terceiro passo seguimos para a criação do modelo de regressão linear e ajustá-lo usando os dados existentes. Utilizando o LenearRegression() na criação do modelo de regressão. O ajuste do modelo se dar ao utiliza .fit() onde calcula os valores ideais dos pesos $b_{0}$ e $b_{1}$, usando a entrada e a saída existentes, x e y, como argumentos."
   ]
  },
  {
   "cell_type": "code",
   "execution_count": 25,
   "metadata": {},
   "outputs": [],
   "source": [
    "model = LinearRegression().fit(x, y)"
   ]
  },
  {
   "cell_type": "markdown",
   "metadata": {},
   "source": [
    "O próximo passo, é a obtenção dos resultados. Utilizados os comandos .score(), .intercept_ e .coef_ no parâmetro model, obtendo o coeficiente de determinação, $R^{2}$, o intercepto, $b_{0}$, e coeficiente angular, $b_{1}$."
   ]
  },
  {
   "cell_type": "code",
   "execution_count": 26,
   "metadata": {},
   "outputs": [
    {
     "name": "stdout",
     "output_type": "stream",
     "text": [
      "Coeficiente de Determinação R^2: 0.9970115153424783\n",
      "Intercepto: 38.49737843126195\n",
      "Coeficiente angular: [0.07579649]\n"
     ]
    }
   ],
   "source": [
    "r_sq = model.score(x, y)\n",
    "print(f\"Coeficiente de Determinação R^2: {r_sq}\")\n",
    "print(f\"Intercepto: {model.intercept_}\")\n",
    "print(f\"Coeficiente angular: {model.coef_}\")"
   ]
  },
  {
   "cell_type": "markdown",
   "metadata": {},
   "source": [
    "\n",
    "### 3.5 Valor experimental de PI\n",
    "<!---\n",
    "Expoham o resultado de PI e seu erro. Também seu erro relativo\n",
    "--->"
   ]
  },
  {
   "cell_type": "markdown",
   "metadata": {},
   "source": [
    "\n",
    "## 4. Conclusão\n",
    "<!---\n",
    "Resumo rápido\n",
    "--->"
   ]
  }
 ],
 "metadata": {
  "kernelspec": {
   "display_name": "Python 3",
   "language": "python",
   "name": "python3"
  },
  "language_info": {
   "codemirror_mode": {
    "name": "ipython",
    "version": 3
   },
   "file_extension": ".py",
   "mimetype": "text/x-python",
   "name": "python",
   "nbconvert_exporter": "python",
   "pygments_lexer": "ipython3",
   "version": "3.12.0"
  }
 },
 "nbformat": 4,
 "nbformat_minor": 2
}
